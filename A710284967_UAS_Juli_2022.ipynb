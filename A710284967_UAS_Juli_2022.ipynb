{
 "cells": [
  {
   "cell_type": "markdown",
   "id": "31862caf",
   "metadata": {},
   "source": [
    "# UAS Computer Vision, Juli 2022\n",
    "\n",
    "##  <font color=\"green\"> Ini adalah sebagian dari soal UAS. Sebagian yang lain sudah dikerjakan di atas kertas di kampus.</font>\n",
    "\n",
    "\n",
    "## Pertama-tama, ganti NIM di nama file ini. Klik <font color=\"red\">File -> Rename... </font>\n",
    "\n",
    "Lalu isi yang di bawah ini. Untuk mengedit cell ini, double-click di sini.\n",
    "### NAMA: ....\n",
    "### NIM: ..."
   ]
  },
  {
   "cell_type": "code",
   "execution_count": 1,
   "id": "b5706c54",
   "metadata": {},
   "outputs": [
    {
     "name": "stdout",
     "output_type": "stream",
     "text": [
      "NAMA: Luthfi Kamaluddin Tito\n",
      "NIM : A710190067\n",
      "Kota: Surakarta\n",
      "Fri Jul 15 16:55:49 2022\n",
      "\n",
      "C:\\Users\\asus\\computer vision\n",
      "C:\\Users\\asus\\AppData\\Local\\Programs\\Python\\Python310\\python.exe\n",
      "3.10.2 (tags/v3.10.2:a58ebcc, Jan 17 2022, 14:12:15) [MSC v.1929 64 bit (AMD64)]\n"
     ]
    }
   ],
   "source": [
    "from time import ctime\n",
    "from os import getcwd\n",
    "import sys\n",
    "nama = \"Luthfi Kamaluddin Tito\"        ## Ganti dengan namamu\n",
    "NIM = \"A710190067\"        ## Ganti dengan NIM-mu\n",
    "kota = \"Surakarta\"        ## Ganti dengan kotamu\n",
    "print(\"NAMA:\", nama)\n",
    "print(\"NIM :\", NIM)\n",
    "print(\"Kota:\", kota)\n",
    "print(ctime())\n",
    "print(\"\")\n",
    "print(getcwd())\n",
    "print(sys.executable)\n",
    "print(sys.version)"
   ]
  },
  {
   "cell_type": "markdown",
   "id": "6ce9f02a",
   "metadata": {},
   "source": [
    "##  Importing the libraries\n",
    "\n",
    "Juga, kamu wajib setuju dengan syarat dan kondisi di bawah."
   ]
  },
  {
   "cell_type": "code",
   "execution_count": 2,
   "id": "482f6909",
   "metadata": {},
   "outputs": [
    {
     "data": {
      "text/markdown": [
       "<br><font size=\"4\">Jika ada tanda-tanda kecurangan, semisal kemiripan jawaban antar mahasiswa di suatu pertanyaan, maka hal itu dapat mengakibatkan nilai NOL di SEMUA pertanyaan (tidak peduli siapa yang aslinya mengerjakan). Jadi, buat jawabanmu lengkap (sehingga unik dan tidak mirip) dengan memberi comments yang cukup dan jangan dibagikan lewat cara apapun.</font><br><br><font size=\"5\">Saya, LUTHFI KAMALUDDIN TITO, dengan ini bersaksi bahwa saya mengerjakan ujian ini tanpa interaksi dengan mahasiswa lain atau orang lain dan saya setuju dengan kondisi yang tertuang di atas.</font>"
      ],
      "text/plain": [
       "<IPython.core.display.Markdown object>"
      ]
     },
     "execution_count": 2,
     "metadata": {},
     "output_type": "execute_result"
    }
   ],
   "source": [
    "import cv2\n",
    "import numpy as np\n",
    "import matplotlib.pyplot as plt\n",
    "%matplotlib inline\n",
    "from IPython.display import Image, Markdown\n",
    "\n",
    "cond = \"Jika ada tanda-tanda kecurangan, semisal kemiripan jawaban antar mahasiswa di suatu pertanyaan, \\\n",
    "maka hal itu dapat mengakibatkan nilai NOL di SEMUA pertanyaan (tidak peduli siapa yang aslinya mengerjakan). \\\n",
    "Jadi, buat jawabanmu lengkap (sehingga unik dan tidak mirip) dengan memberi comments yang cukup dan jangan \\\n",
    "dibagikan lewat cara apapun.\"\n",
    "setuju = \"Saya, \" + nama.upper() + \", dengan ini bersaksi bahwa saya mengerjakan ujian ini tanpa interaksi \\\n",
    "dengan mahasiswa lain atau orang lain dan saya setuju dengan kondisi yang tertuang di atas.\"\n",
    "\n",
    "Markdown('<br><font size=\"4\">{}</font><br><br><font size=\"5\">{}</font>'.format(cond, setuju) )"
   ]
  },
  {
   "cell_type": "code",
   "execution_count": 3,
   "id": "0c34fd12",
   "metadata": {
    "scrolled": true
   },
   "outputs": [
    {
     "data": {
      "text/markdown": [
       "<br><br><br><br><div align=\"center\"><font size=\"7\">﷽</font></div><br><br>"
      ],
      "text/plain": [
       "<IPython.core.display.Markdown object>"
      ]
     },
     "execution_count": 3,
     "metadata": {},
     "output_type": "execute_result"
    }
   ],
   "source": [
    "Markdown('<br><br><br><br><div align=\"center\"><font size=\"7\">{}</font></div><br><br>'.format(chr(65021) ) )"
   ]
  },
  {
   "cell_type": "markdown",
   "id": "e57e781c",
   "metadata": {},
   "source": [
    "# 1 \n",
    "\n",
    "Buka gambar `student_green.png`. Memakai OpenCV, hilangkan latar hijaunya. **Semua perintah harus diberi komentar yang menjelaskan.** \n",
    "\n",
    "Tampilkan berdampingan dengan gambar aslinya.\n"
   ]
  },
  {
   "cell_type": "code",
   "execution_count": 5,
   "id": "be4e0263",
   "metadata": {},
   "outputs": [],
   "source": [
    "#Install library OpenCV\n",
    "import cv2\n",
    "\n",
    "#Membaca gambar\n",
    "img = cv2.imread('student_green.png')\n",
    "#Menampilkan gambar\n",
    "cv2.imshow('student_green',img)\n",
    "#Menyimpan gambar\n",
    "cv2.imwrite('student_green.png',img)\n",
    "\n",
    "#Menunda windows terdestroy\n",
    "cv2.waitKey(0)\n",
    "#Mendestroy windows\n",
    "cv2.destroyAllWindows()"
   ]
  },
  {
   "cell_type": "code",
   "execution_count": 8,
   "id": "95383936",
   "metadata": {},
   "outputs": [],
   "source": [
    "import numpy as np\n",
    "import cv2\n",
    "from matplotlib import pyplot as plt\n",
    "img = cv2.imread('student_green.png')\n",
    "mask = np.zeros(img.shape[:2],np.uint8)\n",
    "bgdModel = np.zeros((1,65),np.float64)\n",
    "fgdModel = np.zeros((1,65),np.float64)\n",
    "rect = (50,50,450,290)\n",
    "cv2.grabCut(img,mask,rect,bgdModel,fgdModel,5,cv2.GC_INIT_WITH_RECT)\n",
    "mask2 = np.where((mask==2)|(mask==0),0,1).astype('uint8')\n",
    "img = img*mask2[:,:,np.newaxis]\n",
    " \n",
    " \n",
    "cv2.imshow('image',img)\n",
    "cv2.imwrite('student_green.png',img)\n",
    "cv2.waitKey(0)\n",
    "cv2.destroyAllWindows()"
   ]
  },
  {
   "cell_type": "markdown",
   "id": "1db4f998",
   "metadata": {},
   "source": [
    "# 2\n",
    "\n",
    "Buat histogram (3 channel) untuk gambar asli dan gambar yang sudah dihilangkan latar belakangnya. Tampilkan berdampingan\n",
    "\n",
    "Apa perbedaan yang mencolok? Mengapa begitu?"
   ]
  },
  {
   "cell_type": "code",
   "execution_count": 9,
   "id": "e0cfd180",
   "metadata": {},
   "outputs": [
    {
     "data": {
      "image/png": "[encoded data removed]",
      "text/plain": [
       "<Figure size 432x288 with 4 Axes>"
      ]
     },
     "metadata": {
      "needs_background": "light"
     },
     "output_type": "display_data"
    },
    {
     "data": {
      "image/png": "[encoded data removed]",
      "text/plain": [
       "<Figure size 432x288 with 4 Axes>"
      ]
     },
     "metadata": {
      "needs_background": "light"
     },
     "output_type": "display_data"
    }
   ],
   "source": [
    "import cv2\n",
    "import numpy as np\n",
    "from matplotlib import pyplot as plt\n",
    "img = cv2.imread('student_green.png',0)\n",
    "\n",
    "# create a mask\n",
    "mask = np.zeros(img.shape[:2], np.uint8)\n",
    "mask[100:300, 100:400] = 255\n",
    "masked_img = cv2.bitwise_and(img,img,mask = mask)\n",
    "\n",
    "# Calculate histogram with mask and without mask\n",
    "# Check third argument for mask\n",
    "hist_full = cv2.calcHist([img],[0],None,[256],[0,256])\n",
    "hist_mask = cv2.calcHist([img],[0],mask,[256],[0,256])\n",
    "\n",
    "plt.subplot(221), plt.imshow(img, 'gray')\n",
    "plt.subplot(222), plt.imshow(mask,'gray')\n",
    "plt.subplot(223), plt.imshow(masked_img, 'gray')\n",
    "plt.subplot(224), plt.plot(hist_full), plt.plot(hist_mask)\n",
    "plt.xlim([0,256])\n",
    "\n",
    "plt.show()\n",
    "\n",
    "import cv2\n",
    "import numpy as np\n",
    "from matplotlib import pyplot as plt\n",
    "img = cv2.imread('student_green.png',0)\n",
    " \n",
    "# create a mask\n",
    "mask = np.zeros(img.shape[:2], np.uint8)\n",
    "mask[100:300, 100:400] = 255\n",
    "masked_img = cv2.bitwise_and(img,img,mask = mask)\n",
    " \n",
    "# Calculate histogram with mask and without mask\n",
    "# Check third argument for mask\n",
    "hist_full = cv2.calcHist([img],[0],None,[256],[0,256])\n",
    "hist_mask = cv2.calcHist([img],[0],mask,[256],[0,256])\n",
    " \n",
    "plt.subplot(221), plt.imshow(img, 'gray')\n",
    "plt.subplot(222), plt.imshow(mask,'gray')\n",
    "plt.subplot(223), plt.imshow(masked_img, 'gray')\n",
    "plt.subplot(224), plt.plot(hist_full), plt.plot(hist_mask)\n",
    "plt.xlim([0,256])\n",
    " \n",
    "plt.show()"
   ]
  },
  {
   "cell_type": "markdown",
   "id": "6030789d",
   "metadata": {},
   "source": [
    "# 3 \n",
    "\n",
    "Memakai OpenCV, ganti latar belakang yang tadinya hijau dengan gambar `pantai.jpg`. Sesuaikan ukurannya agar tampak bagus. Semua proses harus memakai OpenCV / numpy. **Semua perintah harus diberi komentar yang menjelaskan.**\n",
    "\n",
    "\n",
    "Tampilkan berdampingan dengan gambar aslinya."
   ]
  },
  {
   "cell_type": "code",
   "execution_count": null,
   "id": "4c1df213",
   "metadata": {},
   "outputs": [],
   "source": []
  },
  {
   "cell_type": "markdown",
   "id": "6c5a096d",
   "metadata": {},
   "source": [
    "# 4\n",
    "\n",
    "Buat histogram (3 channel) untuk gambar asli, gambar yang sudah dihilangkan latar belakangnya, serta gambar yang sudah berlatar pantai. Tampilkan ketiganya berdampingan\n",
    "\n",
    "Apa perbedaan yang mencolok? Mengapa begitu?"
   ]
  },
  {
   "cell_type": "code",
   "execution_count": null,
   "id": "3b10a1f6",
   "metadata": {},
   "outputs": [],
   "source": []
  },
  {
   "cell_type": "markdown",
   "id": "41ee5345",
   "metadata": {},
   "source": [
    "## Click Kernel  -->  Restart & Run All\n",
    "\n",
    "## Save\n",
    "\n",
    "## Add, commit, then push to GitHub"
   ]
  },
  {
   "cell_type": "code",
   "execution_count": null,
   "id": "1778f43d",
   "metadata": {},
   "outputs": [],
   "source": []
  }
 ],
 "metadata": {
  "kernelspec": {
   "display_name": "Python 3 (ipykernel)",
   "language": "python",
   "name": "python3"
  },
  "language_info": {
   "codemirror_mode": {
    "name": "ipython",
    "version": 3
   },
   "file_extension": ".py",
   "mimetype": "text/x-python",
   "name": "python",
   "nbconvert_exporter": "python",
   "pygments_lexer": "ipython3",
   "version": "3.10.2"
  }
 },
 "nbformat": 4,
 "nbformat_minor": 5
}
